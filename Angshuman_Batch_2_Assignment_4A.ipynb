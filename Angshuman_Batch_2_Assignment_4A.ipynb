{
 "cells": [
  {
   "cell_type": "code",
   "execution_count": 0,
   "metadata": {
    "colab": {
     "autoexec": {
      "startup": false,
      "wait_interval": 0
     }
    },
    "colab_type": "code",
    "collapsed": true,
    "id": "EejM9-xhNImO"
   },
   "outputs": [],
   "source": [
    "!pip install -q keras\n",
    "import keras"
   ]
  },
  {
   "cell_type": "code",
   "execution_count": 0,
   "metadata": {
    "colab": {
     "autoexec": {
      "startup": false,
      "wait_interval": 0
     }
    },
    "colab_type": "code",
    "collapsed": true,
    "id": "Vzq3kAwYNTsP"
   },
   "outputs": [],
   "source": [
    "import numpy as np\n",
    "\n",
    "from keras.models import Sequential\n",
    "from keras.layers import Dense, Dropout, Activation, Flatten, Add\n",
    "from keras.layers import Convolution2D, MaxPooling2D\n",
    "from keras.utils import np_utils\n",
    "\n",
    "from keras.datasets import mnist\n",
    "\n",
    "(X_train, y_train), (X_test, y_test) = mnist.load_data()"
   ]
  },
  {
   "cell_type": "code",
   "execution_count": 41,
   "metadata": {
    "colab": {
     "autoexec": {
      "startup": false,
      "wait_interval": 0
     },
     "base_uri": "https://localhost:8080/",
     "height": 299
    },
    "colab_type": "code",
    "executionInfo": {
     "elapsed": 3061,
     "status": "ok",
     "timestamp": 1525444433771,
     "user": {
      "displayName": "Angshuman Chatterjee",
      "photoUrl": "https://lh3.googleusercontent.com/a/default-user=s128",
      "userId": "110828238551627239966"
     },
     "user_tz": -330
    },
    "id": "arimeAbYNoiS",
    "outputId": "c8769a53-22fb-41f3-c9d7-0a9f4a03bd9c"
   },
   "outputs": [
    {
     "name": "stdout",
     "output_type": "stream",
     "text": [
      "(60000, 28, 28)\n"
     ]
    },
    {
     "data": {
      "text/plain": [
       "<matplotlib.image.AxesImage at 0x7fe2efc9c4d0>"
      ]
     },
     "execution_count": 41,
     "metadata": {
      "tags": []
     },
     "output_type": "execute_result"
    },
    {
     "data": {
      "image/png": "[encoded data removed]",
      "text/plain": [
       "<matplotlib.figure.Figure at 0x7fe2effdd0d0>"
      ]
     },
     "metadata": {
      "tags": []
     },
     "output_type": "display_data"
    }
   ],
   "source": [
    "print (X_train.shape)\n",
    "from matplotlib import pyplot as plt\n",
    "%matplotlib inline\n",
    "plt.imshow(X_train[0])"
   ]
  },
  {
   "cell_type": "code",
   "execution_count": 42,
   "metadata": {
    "colab": {
     "autoexec": {
      "startup": false,
      "wait_interval": 0
     },
     "base_uri": "https://localhost:8080/",
     "height": 187
    },
    "colab_type": "code",
    "executionInfo": {
     "elapsed": 2748,
     "status": "ok",
     "timestamp": 1525444441725,
     "user": {
      "displayName": "Angshuman Chatterjee",
      "photoUrl": "https://lh3.googleusercontent.com/a/default-user=s128",
      "userId": "110828238551627239966"
     },
     "user_tz": -330
    },
    "id": "5OyvXYyHNrb0",
    "outputId": "1b8952a2-db53-4da4-cd55-70c7e7961b52"
   },
   "outputs": [
    {
     "data": {
      "text/plain": [
       "array([[0., 0., 0., 0., 0., 1., 0., 0., 0., 0.],\n",
       "       [1., 0., 0., 0., 0., 0., 0., 0., 0., 0.],\n",
       "       [0., 0., 0., 0., 1., 0., 0., 0., 0., 0.],\n",
       "       [0., 1., 0., 0., 0., 0., 0., 0., 0., 0.],\n",
       "       [0., 0., 0., 0., 0., 0., 0., 0., 0., 1.],\n",
       "       [0., 0., 1., 0., 0., 0., 0., 0., 0., 0.],\n",
       "       [0., 1., 0., 0., 0., 0., 0., 0., 0., 0.],\n",
       "       [0., 0., 0., 1., 0., 0., 0., 0., 0., 0.],\n",
       "       [0., 1., 0., 0., 0., 0., 0., 0., 0., 0.],\n",
       "       [0., 0., 0., 0., 1., 0., 0., 0., 0., 0.]], dtype=float32)"
      ]
     },
     "execution_count": 42,
     "metadata": {
      "tags": []
     },
     "output_type": "execute_result"
    }
   ],
   "source": [
    "X_train = X_train.reshape(X_train.shape[0], 28, 28,1)\n",
    "X_test = X_test.reshape(X_test.shape[0], 28, 28,1)\n",
    "X_train = X_train.astype('float32')\n",
    "X_test = X_test.astype('float32')\n",
    "X_train /= 255\n",
    "X_test /= 255\n",
    "y_train[:10]\n",
    "Y_train = np_utils.to_categorical(y_train, 10)\n",
    "Y_test = np_utils.to_categorical(y_test, 10)\n",
    "Y_train[:10]"
   ]
  },
  {
   "cell_type": "code",
   "execution_count": 115,
   "metadata": {
    "colab": {
     "autoexec": {
      "startup": false,
      "wait_interval": 0
     },
     "base_uri": "https://localhost:8080/",
     "height": 462
    },
    "colab_type": "code",
    "executionInfo": {
     "elapsed": 5181,
     "status": "ok",
     "timestamp": 1525452877743,
     "user": {
      "displayName": "Angshuman Chatterjee",
      "photoUrl": "https://lh3.googleusercontent.com/a/default-user=s128",
      "userId": "110828238551627239966"
     },
     "user_tz": -330
    },
    "id": "l88P_qHtOvRz",
    "outputId": "6252f110-f0c5-4fff-b6a9-4dccff19690a"
   },
   "outputs": [
    {
     "name": "stdout",
     "output_type": "stream",
     "text": [
      "_________________________________________________________________\n",
      "Layer (type)                 Output Shape              Param #   \n",
      "=================================================================\n",
      "conv2d_243 (Conv2D)          (None, 26, 26, 32)        320       \n",
      "_________________________________________________________________\n",
      "conv2d_244 (Conv2D)          (None, 26, 26, 10)        330       \n",
      "_________________________________________________________________\n",
      "dense_36 (Dense)             (None, 26, 26, 8)         88        \n",
      "_________________________________________________________________\n",
      "conv2d_245 (Conv2D)          (None, 24, 24, 10)        730       \n",
      "_________________________________________________________________\n",
      "conv2d_246 (Conv2D)          (None, 22, 22, 10)        910       \n",
      "_________________________________________________________________\n",
      "conv2d_247 (Conv2D)          (None, 1, 1, 10)          48410     \n",
      "_________________________________________________________________\n",
      "flatten_39 (Flatten)         (None, 10)                0         \n",
      "_________________________________________________________________\n",
      "activation_39 (Activation)   (None, 10)                0         \n",
      "=================================================================\n",
      "Total params: 50,788\n",
      "Trainable params: 50,788\n",
      "Non-trainable params: 0\n",
      "_________________________________________________________________\n"
     ]
    },
    {
     "name": "stderr",
     "output_type": "stream",
     "text": [
      "/usr/local/lib/python2.7/dist-packages/ipykernel_launcher.py:7: UserWarning: Update your `Conv2D` call to the Keras 2 API: `Conv2D(32, (3, 3), activation=\"relu\", input_shape=(28, 28, 1...)`\n",
      "  import sys\n"
     ]
    }
   ],
   "source": [
    "from keras.layers import Activation\n",
    "from keras.layers.core import Dense\n",
    "from keras import backend as K\n",
    "K.set_image_dim_ordering('tf')\n",
    "model = Sequential()\n",
    " \n",
    "model.add(Convolution2D(32, 3, 3, activation='relu', input_shape=(28,28,1)))\n",
    "model.add(Convolution2D(10, 1, activation='relu'))\n",
    "model.add(Dense(8, activation='relu'))\n",
    "model.add(Convolution2D(10, 3, activation='relu'))\n",
    "model.add(Convolution2D(10, 3, activation='relu'))\n",
    "model.add(Convolution2D(10,22))\n",
    "\n",
    "model.add(Flatten())\n",
    "model.add(Activation('softmax'))\n",
    "model.summary()"
   ]
  },
  {
   "cell_type": "code",
   "execution_count": 117,
   "metadata": {
    "colab": {
     "autoexec": {
      "startup": false,
      "wait_interval": 0
     },
     "base_uri": "https://localhost:8080/",
     "height": 394
    },
    "colab_type": "code",
    "executionInfo": {
     "elapsed": 307578,
     "status": "ok",
     "timestamp": 1525453712223,
     "user": {
      "displayName": "Angshuman Chatterjee",
      "photoUrl": "https://lh3.googleusercontent.com/a/default-user=s128",
      "userId": "110828238551627239966"
     },
     "user_tz": -330
    },
    "id": "EBhcehNRO_vc",
    "outputId": "5a7b872b-82ca-485a-ae9e-1e94d5d83013"
   },
   "outputs": [
    {
     "name": "stdout",
     "output_type": "stream",
     "text": [
      "Epoch 1/10\n",
      "60000/60000 [==============================] - 32s 529us/step - loss: 0.0093 - acc: 0.9969\n",
      "Epoch 2/10\n",
      "30240/60000 [==============>...............] - ETA: 15s - loss: 0.0068 - acc: 0.997560000/60000 [==============================] - 31s 509us/step - loss: 0.0076 - acc: 0.9973\n",
      "Epoch 3/10\n",
      "48576/60000 [=======================>......] - ETA: 5s - loss: 0.0063 - acc: 0.997760000/60000 [==============================] - 30s 508us/step - loss: 0.0066 - acc: 0.9977\n",
      "Epoch 4/10\n",
      "57728/60000 [===========================>..] - ETA: 1s - loss: 0.0072 - acc: 0.997660000/60000 [==============================] - 30s 504us/step - loss: 0.0070 - acc: 0.9976\n",
      "Epoch 5/10\n",
      "60000/60000 [==============================] - 30s 507us/step - loss: 0.0056 - acc: 0.9983\n",
      "Epoch 6/10\n",
      "  832/60000 [..............................] - ETA: 30s - loss: 6.8128e-04 - acc: 1.000060000/60000 [==============================] - 30s 503us/step - loss: 0.0070 - acc: 0.9977\n",
      "Epoch 7/10\n",
      "36352/60000 [=================>............] - ETA: 11s - loss: 0.0039 - acc: 0.998960000/60000 [==============================] - 30s 502us/step - loss: 0.0053 - acc: 0.9984\n",
      "Epoch 8/10\n",
      "50304/60000 [========================>.....] - ETA: 5s - loss: 0.0046 - acc: 0.998460000/60000 [==============================] - 31s 517us/step - loss: 0.0047 - acc: 0.9985\n",
      "Epoch 9/10\n",
      "58304/60000 [============================>.] - ETA: 0s - loss: 0.0046 - acc: 0.998460000/60000 [==============================] - 30s 505us/step - loss: 0.0045 - acc: 0.9984\n",
      "Epoch 10/10\n",
      "60000/60000 [==============================] - 30s 507us/step - loss: 0.0039 - acc: 0.9989\n"
     ]
    },
    {
     "data": {
      "text/plain": [
       "<keras.callbacks.History at 0x7fe2e6e20fd0>"
      ]
     },
     "execution_count": 117,
     "metadata": {
      "tags": []
     },
     "output_type": "execute_result"
    }
   ],
   "source": [
    "model.compile(loss='categorical_crossentropy',\n",
    "             optimizer='adam',\n",
    "             metrics=['accuracy'])\n",
    "model.fit(X_train, Y_train, batch_size=32, nb_epoch=10, verbose=1)"
   ]
  },
  {
   "cell_type": "code",
   "execution_count": 0,
   "metadata": {
    "colab": {
     "autoexec": {
      "startup": false,
      "wait_interval": 0
     }
    },
    "colab_type": "code",
    "collapsed": true,
    "id": "SwIt2fdPP-av"
   },
   "outputs": [],
   "source": [
    "score = model.evaluate(X_test, Y_test, verbose=0)"
   ]
  },
  {
   "cell_type": "code",
   "execution_count": 119,
   "metadata": {
    "colab": {
     "autoexec": {
      "startup": false,
      "wait_interval": 0
     },
     "base_uri": "https://localhost:8080/",
     "height": 34
    },
    "colab_type": "code",
    "executionInfo": {
     "elapsed": 893,
     "status": "ok",
     "timestamp": 1525453777701,
     "user": {
      "displayName": "Angshuman Chatterjee",
      "photoUrl": "https://lh3.googleusercontent.com/a/default-user=s128",
      "userId": "110828238551627239966"
     },
     "user_tz": -330
    },
    "id": "Kt6KFur6QCMV",
    "outputId": "94126925-ccbe-4c93-bbdd-e8ac66094d31"
   },
   "outputs": [
    {
     "name": "stdout",
     "output_type": "stream",
     "text": [
      "[0.08605235737733757, 0.9856]\n"
     ]
    }
   ],
   "source": [
    "print(score)"
   ]
  }
 ],
 "metadata": {
  "accelerator": "GPU",
  "colab": {
   "collapsed_sections": [],
   "default_view": {},
   "name": "Assignment_4A with GPU",
   "provenance": [
    {
     "file_id": "/v2/external/notebooks/gpu.ipynb",
     "timestamp": 1525427125265
    }
   ],
   "toc_visible": true,
   "version": "0.3.2",
   "views": {}
  },
  "kernelspec": {
   "display_name": "Python 3",
   "language": "python",
   "name": "python3"
  },
  "language_info": {
   "codemirror_mode": {
    "name": "ipython",
    "version": 3
   },
   "file_extension": ".py",
   "mimetype": "text/x-python",
   "name": "python",
   "nbconvert_exporter": "python",
   "pygments_lexer": "ipython3",
   "version": "3.6.1"
  }
 },
 "nbformat": 4,
 "nbformat_minor": 1
}
