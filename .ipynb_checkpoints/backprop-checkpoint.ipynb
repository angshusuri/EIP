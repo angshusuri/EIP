{
 "cells": [
  {
   "cell_type": "code",
   "execution_count": 41,
   "metadata": {},
   "outputs": [
    {
     "name": "stdout",
     "output_type": "stream",
     "text": [
      "[ 0.67]\n",
      "[[ 0.29  0.35  0.68]\n",
      " [ 0.03  0.62  0.41]\n",
      " [ 0.24  0.45  0.39]\n",
      " [ 0.41  0.77  0.78]]\n",
      "[ 0.61  0.74  0.01]\n"
     ]
    }
   ],
   "source": [
    "import numpy as np   \n",
    "wh=np.random.random((4,3))\n",
    "bh=np.random.random((3,))\n",
    "wout=np.random.random((3,))\n",
    "bout=np.random.random((1,))\n",
    "\n",
    "bout[0]=round(bout[0],2)\n",
    "print(bout)\n",
    "#print(bh)\n",
    "for i in range(4):\n",
    "    for j in range(3):\n",
    "        wh[i,j]=round(wh[i,j],2)\n",
    "print(wh)\n",
    "for i in range(3):\n",
    "    bh[i]=round(bh[i],2)\n",
    "    wout[i]=round(wout[i],2)\n",
    "print(wout)"
   ]
  },
  {
   "cell_type": "code",
   "execution_count": 53,
   "metadata": {},
   "outputs": [
    {
     "name": "stdout",
     "output_type": "stream",
     "text": [
      "0.88\n",
      "0.82\n",
      "0.74\n",
      "0.74\n"
     ]
    }
   ],
   "source": [
    "import numpy as np\n",
    "def sigmoid(x):\n",
    "    return (1 / (1 + np.exp(-x)))\n",
    "for i in [1.96,1.49,1.06]:\n",
    "    print(round(sigmoid(i),2))\n",
    "print(round(sigmoid(1.025),2))"
   ]
  },
  {
   "cell_type": "code",
   "execution_count": 4,
   "metadata": {},
   "outputs": [
    {
     "name": "stdout",
     "output_type": "stream",
     "text": [
      "[[ 0.76  0.86  0.88]\n",
      " [ 0.86  0.93  0.82]\n",
      " [ 0.89  0.91  0.74]]\n"
     ]
    }
   ],
   "source": [
    "import numpy as np\n",
    "hd=np.array([[0.76,0.86,0.89],[0.86,0.93,0.91],[0.88,0.82,0.74]])\n",
    "print(hd.transpose())"
   ]
  },
  {
   "cell_type": "code",
   "execution_count": 10,
   "metadata": {},
   "outputs": [
    {
     "ename": "ValueError",
     "evalue": "operands could not be broadcast together with shapes (3,3) (4,3) ",
     "output_type": "error",
     "traceback": [
      "\u001b[1;31m---------------------------------------------------------------------------\u001b[0m",
      "\u001b[1;31mValueError\u001b[0m                                Traceback (most recent call last)",
      "\u001b[1;32m<ipython-input-10-426eb00d178a>\u001b[0m in \u001b[0;36m<module>\u001b[1;34m()\u001b[0m\n\u001b[0;32m      3\u001b[0m \u001b[0mxt\u001b[0m\u001b[1;33m=\u001b[0m\u001b[0mx\u001b[0m\u001b[1;33m.\u001b[0m\u001b[0mtranspose\u001b[0m\u001b[1;33m(\u001b[0m\u001b[1;33m)\u001b[0m\u001b[1;33m\u001b[0m\u001b[0m\n\u001b[0;32m      4\u001b[0m \u001b[0mdhl\u001b[0m\u001b[1;33m=\u001b[0m\u001b[0mnp\u001b[0m\u001b[1;33m.\u001b[0m\u001b[0marray\u001b[0m\u001b[1;33m(\u001b[0m\u001b[1;33m[\u001b[0m\u001b[1;33m[\u001b[0m\u001b[1;36m0.000\u001b[0m\u001b[1;33m,\u001b[0m\u001b[1;36m0.001\u001b[0m\u001b[1;33m,\u001b[0m\u001b[1;36m0.000\u001b[0m\u001b[1;33m]\u001b[0m\u001b[1;33m,\u001b[0m\u001b[1;33m[\u001b[0m\u001b[1;36m0.000\u001b[0m\u001b[1;33m,\u001b[0m\u001b[1;36m0.000\u001b[0m\u001b[1;33m,\u001b[0m\u001b[1;36m0.000\u001b[0m\u001b[1;33m]\u001b[0m\u001b[1;33m,\u001b[0m\u001b[1;33m[\u001b[0m\u001b[1;36m0.000\u001b[0m\u001b[1;33m,\u001b[0m\u001b[1;36m0.015\u001b[0m\u001b[1;33m,\u001b[0m\u001b[1;36m0.015\u001b[0m\u001b[1;33m]\u001b[0m\u001b[1;33m]\u001b[0m\u001b[1;33m)\u001b[0m\u001b[1;33m\u001b[0m\u001b[0m\n\u001b[1;32m----> 5\u001b[1;33m \u001b[0mmmul\u001b[0m\u001b[1;33m=\u001b[0m\u001b[0mnp\u001b[0m\u001b[1;33m.\u001b[0m\u001b[0mmultiply\u001b[0m\u001b[1;33m(\u001b[0m\u001b[0mdhl\u001b[0m\u001b[1;33m,\u001b[0m\u001b[0mxt\u001b[0m\u001b[1;33m)\u001b[0m\u001b[1;33m\u001b[0m\u001b[0m\n\u001b[0m\u001b[0;32m      6\u001b[0m \u001b[0mprint\u001b[0m\u001b[1;33m(\u001b[0m\u001b[0mmmul\u001b[0m\u001b[1;33m)\u001b[0m\u001b[1;33m\u001b[0m\u001b[0m\n",
      "\u001b[1;31mValueError\u001b[0m: operands could not be broadcast together with shapes (3,3) (4,3) "
     ]
    }
   ],
   "source": [
    "import numpy as np\n",
    "x=np.array([[1,0,1,0],[1,0,1,1],[0,1,0,1]])\n",
    "xt=x.transpose()\n",
    "dhl=np.array([[0.000,0.001,0.000],[0.000,0.000,0.000],[0.000,0.015,0.015]])\n",
    "mmul=np.multiply(dhl,xt)\n",
    "print(mmul)"
   ]
  },
  {
   "cell_type": "code",
   "execution_count": 17,
   "metadata": {},
   "outputs": [
    {
     "name": "stdout",
     "output_type": "stream",
     "text": [
      "[[ 0.04  0.43  0.55]\n",
      " [ 0.49  0.04  0.04]\n",
      " [ 0.31  0.75  0.73]\n",
      " [ 0.69  0.82  0.16]]\n",
      "[[ 0.      0.0001  0.    ]\n",
      " [ 0.      0.0015  0.0015]\n",
      " [ 0.      0.0001  0.    ]\n",
      " [ 0.      0.0015  0.0015]]\n",
      "[[ 0.04    0.4301  0.55  ]\n",
      " [ 0.49    0.0415  0.0415]\n",
      " [ 0.31    0.7501  0.73  ]\n",
      " [ 0.69    0.8215  0.1615]]\n"
     ]
    }
   ],
   "source": [
    "import numpy as np\n",
    "wh=np.array([[0.04,0.43,0.55],[0.49,0.04,0.04],[0.31,0.75,0.73],[0.69,0.82,0.16]])\n",
    "print(wh)\n",
    "narr=np.array([[.000,.001,0],[.000,.015,0.015],[0.000,0.001,0.000],[0.000,0.015,0.015]])\n",
    "multt=narr * 0.1\n",
    "print(multt)\n",
    "res=np.add(wh,multt)\n",
    "print(res)"
   ]
  },
  {
   "cell_type": "markdown",
   "metadata": {},
   "source": [
    "|##x|\n",
    "|---|---|:---:|\n",
    "|1|2|3|"
   ]
  }
 ],
 "metadata": {
  "kernelspec": {
   "display_name": "Python 3",
   "language": "python",
   "name": "python3"
  },
  "language_info": {
   "codemirror_mode": {
    "name": "ipython",
    "version": 3
   },
   "file_extension": ".py",
   "mimetype": "text/x-python",
   "name": "python",
   "nbconvert_exporter": "python",
   "pygments_lexer": "ipython3",
   "version": "3.6.1"
  }
 },
 "nbformat": 4,
 "nbformat_minor": 2
}
